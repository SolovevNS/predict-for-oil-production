{
 "cells": [
  {
   "cell_type": "markdown",
   "metadata": {},
   "source": [
    "# Выбор локации для скважины"
   ]
  },
  {
   "cell_type": "markdown",
   "metadata": {},
   "source": [
    "Добывающей компании «ГлавРосГосНефть» нужно решить, где бурить новую скважину.\n",
    "\n",
    "Предоставлены пробы нефти в трёх регионах: в каждом 10 000 месторождений, где измерили качество нефти и объём её запасов. \n",
    "\n",
    "Шаги для выбора локации:\n",
    "\n",
    "- В избранном регионе ищут месторождения, для каждого определяют значения признаков;\n",
    "- Строят модель и оценивают объём запасов;\n",
    "- Выбирают месторождения с самым высокими оценками значений. Количество месторождений зависит от бюджета компании и стоимости разработки одной скважины;\n",
    "- Прибыль равна суммарной прибыли отобранных месторождений."
   ]
  },
  {
   "cell_type": "markdown",
   "metadata": {},
   "source": [
    "### Задача: построить модель для определения региона нефтедобычи с наибольшей средней прибылью, в котором вероятность убытков составит меньше 2.5%. \n",
    "\n",
    "Ход исследования:\n",
    "\n",
    "- загрузить библиотеки\n",
    "- выгрузка данных\n",
    "- подготовка данных\n",
    "- ML\n",
    "- расчет прибыли/убытков\n",
    "- вывод\n"
   ]
  },
  {
   "cell_type": "markdown",
   "metadata": {},
   "source": [
    "## Загрузка и подготовка данных"
   ]
  },
  {
   "cell_type": "code",
   "execution_count": 6,
   "metadata": {
    "scrolled": true
   },
   "outputs": [],
   "source": [
    "# импортируем библиотеки\n",
    "\n",
    "import pandas as pd\n",
    "import numpy as np\n",
    "import seaborn as sns\n",
    "import warnings\n",
    "\n",
    "\n",
    "from numpy.random import RandomState\n",
    "from scipy import stats as st\n",
    "from sklearn.model_selection import train_test_split, cross_val_score\n",
    "from sklearn.linear_model import LinearRegression\n",
    "from sklearn.metrics import mean_squared_error"
   ]
  },
  {
   "cell_type": "code",
   "execution_count": 7,
   "metadata": {},
   "outputs": [],
   "source": [
    "pd.set_option('display.max_columns', None) \n",
    "pd.set_option('display.max_rows', None) "
   ]
  },
  {
   "cell_type": "code",
   "execution_count": 8,
   "metadata": {},
   "outputs": [],
   "source": [
    "# извлечем данные\n",
    "\n",
    "geo_data_0 = pd.read_csv('/datasets/geo_data_0.csv')\n",
    "geo_data_1 = pd.read_csv('/datasets/geo_data_1.csv')\n",
    "geo_data_2 = pd.read_csv('/datasets/geo_data_2.csv')"
   ]
  },
  {
   "cell_type": "code",
   "execution_count": 9,
   "metadata": {},
   "outputs": [],
   "source": [
    "geo_data_0 = geo_data_0.drop(['id'], axis = 1)\n",
    "geo_data_1 = geo_data_1.drop(['id'], axis = 1)\n",
    "geo_data_2 = geo_data_2.drop(['id'], axis = 1)"
   ]
  },
  {
   "cell_type": "code",
   "execution_count": 10,
   "metadata": {
    "scrolled": true
   },
   "outputs": [],
   "source": [
    "geo_data_0['key'] = 0\n",
    "geo_data_1['key'] = 1\n",
    "geo_data_2['key'] = 2\n",
    "df = pd.concat([geo_data_0, geo_data_1, geo_data_2], ignore_index=True, sort= False)"
   ]
  },
  {
   "cell_type": "code",
   "execution_count": 11,
   "metadata": {
    "scrolled": true
   },
   "outputs": [
    {
     "data": {
      "text/html": [
       "<div>\n",
       "<style scoped>\n",
       "    .dataframe tbody tr th:only-of-type {\n",
       "        vertical-align: middle;\n",
       "    }\n",
       "\n",
       "    .dataframe tbody tr th {\n",
       "        vertical-align: top;\n",
       "    }\n",
       "\n",
       "    .dataframe thead th {\n",
       "        text-align: right;\n",
       "    }\n",
       "</style>\n",
       "<table border=\"1\" class=\"dataframe\">\n",
       "  <thead>\n",
       "    <tr style=\"text-align: right;\">\n",
       "      <th></th>\n",
       "      <th>f0</th>\n",
       "      <th>f1</th>\n",
       "      <th>f2</th>\n",
       "      <th>product</th>\n",
       "      <th>key</th>\n",
       "    </tr>\n",
       "  </thead>\n",
       "  <tbody>\n",
       "    <tr>\n",
       "      <th>75090</th>\n",
       "      <td>1.558247</td>\n",
       "      <td>-0.718464</td>\n",
       "      <td>5.015303</td>\n",
       "      <td>123.546320</td>\n",
       "      <td>0</td>\n",
       "    </tr>\n",
       "    <tr>\n",
       "      <th>29463</th>\n",
       "      <td>-0.995100</td>\n",
       "      <td>0.255685</td>\n",
       "      <td>2.945942</td>\n",
       "      <td>78.104209</td>\n",
       "      <td>0</td>\n",
       "    </tr>\n",
       "    <tr>\n",
       "      <th>103399</th>\n",
       "      <td>-12.458808</td>\n",
       "      <td>-8.346958</td>\n",
       "      <td>1.002830</td>\n",
       "      <td>30.132364</td>\n",
       "      <td>1</td>\n",
       "    </tr>\n",
       "    <tr>\n",
       "      <th>279832</th>\n",
       "      <td>-2.381938</td>\n",
       "      <td>0.010175</td>\n",
       "      <td>5.036438</td>\n",
       "      <td>108.575302</td>\n",
       "      <td>2</td>\n",
       "    </tr>\n",
       "    <tr>\n",
       "      <th>272426</th>\n",
       "      <td>0.839778</td>\n",
       "      <td>0.507717</td>\n",
       "      <td>6.597029</td>\n",
       "      <td>47.674180</td>\n",
       "      <td>2</td>\n",
       "    </tr>\n",
       "  </tbody>\n",
       "</table>\n",
       "</div>"
      ],
      "text/plain": [
       "               f0        f1        f2     product  key\n",
       "75090    1.558247 -0.718464  5.015303  123.546320    0\n",
       "29463   -0.995100  0.255685  2.945942   78.104209    0\n",
       "103399 -12.458808 -8.346958  1.002830   30.132364    1\n",
       "279832  -2.381938  0.010175  5.036438  108.575302    2\n",
       "272426   0.839778  0.507717  6.597029   47.674180    2"
      ]
     },
     "execution_count": 11,
     "metadata": {},
     "output_type": "execute_result"
    }
   ],
   "source": [
    "df.sample(5)"
   ]
  },
  {
   "cell_type": "markdown",
   "metadata": {},
   "source": [
    "данные выгрузились корректно."
   ]
  },
  {
   "cell_type": "code",
   "execution_count": 12,
   "metadata": {},
   "outputs": [
    {
     "name": "stdout",
     "output_type": "stream",
     "text": [
      "<class 'pandas.core.frame.DataFrame'>\n",
      "RangeIndex: 300000 entries, 0 to 299999\n",
      "Data columns (total 5 columns):\n",
      " #   Column   Non-Null Count   Dtype  \n",
      "---  ------   --------------   -----  \n",
      " 0   f0       300000 non-null  float64\n",
      " 1   f1       300000 non-null  float64\n",
      " 2   f2       300000 non-null  float64\n",
      " 3   product  300000 non-null  float64\n",
      " 4   key      300000 non-null  int64  \n",
      "dtypes: float64(4), int64(1)\n",
      "memory usage: 11.4 MB\n"
     ]
    }
   ],
   "source": [
    "df.info()"
   ]
  },
  {
   "cell_type": "code",
   "execution_count": 13,
   "metadata": {},
   "outputs": [
    {
     "data": {
      "text/plain": [
       "f0         0\n",
       "f1         0\n",
       "f2         0\n",
       "product    0\n",
       "key        0\n",
       "dtype: int64"
      ]
     },
     "execution_count": 13,
     "metadata": {},
     "output_type": "execute_result"
    }
   ],
   "source": [
    "df.isna().sum()"
   ]
  },
  {
   "cell_type": "code",
   "execution_count": 14,
   "metadata": {},
   "outputs": [
    {
     "data": {
      "text/plain": [
       "0"
      ]
     },
     "execution_count": 14,
     "metadata": {},
     "output_type": "execute_result"
    }
   ],
   "source": [
    "df.duplicated().sum()"
   ]
  },
  {
   "cell_type": "code",
   "execution_count": 16,
   "metadata": {},
   "outputs": [
    {
     "data": {
      "text/html": [
       "<div>\n",
       "<style scoped>\n",
       "    .dataframe tbody tr th:only-of-type {\n",
       "        vertical-align: middle;\n",
       "    }\n",
       "\n",
       "    .dataframe tbody tr th {\n",
       "        vertical-align: top;\n",
       "    }\n",
       "\n",
       "    .dataframe thead th {\n",
       "        text-align: right;\n",
       "    }\n",
       "</style>\n",
       "<table border=\"1\" class=\"dataframe\">\n",
       "  <thead>\n",
       "    <tr style=\"text-align: right;\">\n",
       "      <th></th>\n",
       "      <th>f0</th>\n",
       "      <th>f1</th>\n",
       "      <th>f2</th>\n",
       "      <th>product</th>\n",
       "      <th>key</th>\n",
       "    </tr>\n",
       "  </thead>\n",
       "  <tbody>\n",
       "    <tr>\n",
       "      <th>count</th>\n",
       "      <td>300,000.00</td>\n",
       "      <td>300,000.00</td>\n",
       "      <td>300,000.00</td>\n",
       "      <td>300,000.00</td>\n",
       "      <td>300,000.00</td>\n",
       "    </tr>\n",
       "    <tr>\n",
       "      <th>mean</th>\n",
       "      <td>0.55</td>\n",
       "      <td>-1.52</td>\n",
       "      <td>2.50</td>\n",
       "      <td>85.44</td>\n",
       "      <td>1.00</td>\n",
       "    </tr>\n",
       "    <tr>\n",
       "      <th>std</th>\n",
       "      <td>5.32</td>\n",
       "      <td>3.90</td>\n",
       "      <td>2.92</td>\n",
       "      <td>46.52</td>\n",
       "      <td>0.82</td>\n",
       "    </tr>\n",
       "    <tr>\n",
       "      <th>min</th>\n",
       "      <td>-31.61</td>\n",
       "      <td>-26.36</td>\n",
       "      <td>-12.09</td>\n",
       "      <td>0.00</td>\n",
       "      <td>0.00</td>\n",
       "    </tr>\n",
       "    <tr>\n",
       "      <th>25%</th>\n",
       "      <td>-1.00</td>\n",
       "      <td>-2.48</td>\n",
       "      <td>0.65</td>\n",
       "      <td>52.67</td>\n",
       "      <td>0.00</td>\n",
       "    </tr>\n",
       "    <tr>\n",
       "      <th>50%</th>\n",
       "      <td>0.35</td>\n",
       "      <td>-0.23</td>\n",
       "      <td>2.49</td>\n",
       "      <td>84.04</td>\n",
       "      <td>1.00</td>\n",
       "    </tr>\n",
       "    <tr>\n",
       "      <th>75%</th>\n",
       "      <td>1.76</td>\n",
       "      <td>0.68</td>\n",
       "      <td>4.34</td>\n",
       "      <td>124.17</td>\n",
       "      <td>2.00</td>\n",
       "    </tr>\n",
       "    <tr>\n",
       "      <th>max</th>\n",
       "      <td>29.42</td>\n",
       "      <td>18.73</td>\n",
       "      <td>16.74</td>\n",
       "      <td>190.03</td>\n",
       "      <td>2.00</td>\n",
       "    </tr>\n",
       "  </tbody>\n",
       "</table>\n",
       "</div>"
      ],
      "text/plain": [
       "              f0         f1         f2    product        key\n",
       "count 300,000.00 300,000.00 300,000.00 300,000.00 300,000.00\n",
       "mean        0.55      -1.52       2.50      85.44       1.00\n",
       "std         5.32       3.90       2.92      46.52       0.82\n",
       "min       -31.61     -26.36     -12.09       0.00       0.00\n",
       "25%        -1.00      -2.48       0.65      52.67       0.00\n",
       "50%         0.35      -0.23       2.49      84.04       1.00\n",
       "75%         1.76       0.68       4.34     124.17       2.00\n",
       "max        29.42      18.73      16.74     190.03       2.00"
      ]
     },
     "execution_count": 16,
     "metadata": {},
     "output_type": "execute_result"
    }
   ],
   "source": [
    "warnings.simplefilter(action='ignore', category=FutureWarning)\n",
    "pd.options.display.float_format = '{:,.2f}'.format\n",
    "pd.options.mode.chained_assignment = None\n",
    "df.describe(include='all')"
   ]
  },
  {
   "cell_type": "code",
   "execution_count": 17,
   "metadata": {},
   "outputs": [
    {
     "data": {
      "text/plain": [
       "<AxesSubplot:>"
      ]
     },
     "execution_count": 17,
     "metadata": {},
     "output_type": "execute_result"
    },
    {
     "data": {
      "image/png": "[encoded data removed]",
      "text/plain": [
       "<Figure size 1440x864 with 2 Axes>"
      ]
     },
     "metadata": {},
     "output_type": "display_data"
    }
   ],
   "source": [
    "spearman = df.corr(method='spearman')\n",
    "sns.set(rc = {'figure.figsize':(20,12)})\n",
    "sns.heatmap(data=spearman,annot=True)"
   ]
  },
  {
   "cell_type": "code",
   "execution_count": 18,
   "metadata": {},
   "outputs": [],
   "source": [
    "geo_data_0 = df[df['key'] == 0]\n",
    "geo_data_1 = df[df['key'] == 1]\n",
    "geo_data_2 = df[df['key'] == 2]"
   ]
  },
  {
   "cell_type": "markdown",
   "metadata": {},
   "source": [
    "Все три дата сета имеют 100к строк и 5 столбцов, 4 из которых количественные и 1 категориальный(id) который мы убрали как неинформативный. Распределение нормальное. Пропусков, дубликатов нет. Есть кореляция в 0 и 1 регионе - объём запасов продукта в скважине и признак f2, в 1 регионе зависимость очень высокая. Данные синтетические и у нас нет определения признака f2.  \n",
    "Признак product - целевой. "
   ]
  },
  {
   "cell_type": "markdown",
   "metadata": {},
   "source": [
    "## Обучение и проверка модели."
   ]
  },
  {
   "cell_type": "markdown",
   "metadata": {},
   "source": [
    "Датафрейма у нас три, действия однотипные - напишем функцию которая берет на вход дф, определяет признаки, разбивает данные на обучающую и валидационную выборки, обучает модель линейной регресси, предказывает целевой признак, расчитывает rmse и возвращает предсказания и правильные ответы вал. выборки а так же средний запас предсказанного сырья в скважине."
   ]
  },
  {
   "cell_type": "code",
   "execution_count": 19,
   "metadata": {},
   "outputs": [],
   "source": [
    "def ml_linear (data):\n",
    "    features = data.drop(['product'], axis = 1)\n",
    "    target = data['product']\n",
    "    features_train, features_valid, target_train, target_valid = train_test_split(features,target,test_size=.25, random_state=12345)\n",
    "    model = LinearRegression().fit(features_train, target_train)\n",
    "    predicted_valid = model.predict(features_valid)\n",
    "    rmse = (mean_squared_error(predicted_valid, target_valid))**(0.5)\n",
    "    average_product = sum(predicted_valid) / len(predicted_valid)\n",
    "    target_valid = target_valid.reset_index(drop=True)\n",
    "    predicted_valid = pd.Series (predicted_valid)\n",
    "    return (predicted_valid, target_valid, rmse, average_product)"
   ]
  },
  {
   "cell_type": "code",
   "execution_count": 20,
   "metadata": {},
   "outputs": [],
   "source": [
    "# сохраним необходимые данные в отдельные переменнные\n",
    "\n",
    "predicted_valid_0, target_valid_0, rmse_0, average_product_0 = ml_linear(geo_data_0)\n",
    "predicted_valid_1, target_valid_1, rmse_1, average_product_1 = ml_linear(geo_data_1)\n",
    "predicted_valid_2, target_valid_2, rmse_2, average_product_2 = ml_linear(geo_data_2)\n"
   ]
  },
  {
   "cell_type": "code",
   "execution_count": 21,
   "metadata": {
    "scrolled": true
   },
   "outputs": [
    {
     "name": "stdout",
     "output_type": "stream",
     "text": [
      "Средний запас предсказанного сырья для Региона_0 = 93.0 , rmse модели: 38.0\n",
      "\n",
      "Средний запас предсказанного сырья для Региона_1 = 69.0 , rmse модели: 1.0\n",
      "\n",
      "Средний запас предсказанного сырья для Региона_2 = 95.0 , rmse модели: 40.0\n"
     ]
    }
   ],
   "source": [
    "# выведем на экран предсказания среднего запаса сырья  в скважине тыс. баррелей и rmse модели по регионам\n",
    "\n",
    "print ('Средний запас предсказанного сырья для Региона_0 =', average_product_0.round(), ', rmse модели:', rmse_0.round())\n",
    "print()\n",
    "print ('Средний запас предсказанного сырья для Региона_1 =', average_product_1.round(), ', rmse модели:', rmse_1.round())\n",
    "print()\n",
    "print ('Средний запас предсказанного сырья для Региона_2 =', average_product_2.round(), ', rmse модели:', rmse_2.round())\n"
   ]
  },
  {
   "cell_type": "markdown",
   "metadata": {},
   "source": [
    "Средний запас предсказанного запаса сырья больше для 0 и 2 регионов, но модель региона 1 имеет самый низкий RMSE, что говорит нам о том, что предсказания в этом регионе самые точные."
   ]
  },
  {
   "cell_type": "markdown",
   "metadata": {},
   "source": [
    "## Подготовка к расчёту прибыли"
   ]
  },
  {
   "cell_type": "code",
   "execution_count": 22,
   "metadata": {},
   "outputs": [],
   "source": [
    "# обозначим константные переменные \n",
    "\n",
    "BUDGET = 10**10\n",
    "POINTS = 500\n",
    "BEST_POINTS = 200\n",
    "INCOME_PER_UNIT = 450000"
   ]
  },
  {
   "cell_type": "code",
   "execution_count": 23,
   "metadata": {
    "scrolled": true
   },
   "outputs": [
    {
     "name": "stdout",
     "output_type": "stream",
     "text": [
      "Средний объем сырья для безубыточной разработки новой скважины = 111\n"
     ]
    }
   ],
   "source": [
    "# выведем средний объем скважины тыс. баррелей для безубыточной разработки сырья \n",
    "\n",
    "print ('Средний объем сырья для безубыточной разработки новой скважины =', round(BUDGET/BEST_POINTS/INCOME_PER_UNIT))"
   ]
  },
  {
   "cell_type": "markdown",
   "metadata": {},
   "source": [
    "Ни один из регионов, по предсказаниям модели в среднем, не имеет достаточного запаса сырья для безубыточного производства. Продолжим исследования и расчитаем риски и прибыль."
   ]
  },
  {
   "cell_type": "markdown",
   "metadata": {},
   "source": [
    "## Расчёт прибыли и рисков "
   ]
  },
  {
   "cell_type": "code",
   "execution_count": 24,
   "metadata": {},
   "outputs": [],
   "source": [
    "# функция расчета прибыли\n",
    "\n",
    "def profit_all (target, probabilities, count, INCOME_PER_UNIT, BUDGET):\n",
    "    probabilities_sorted = probabilities.sort_values(ascending=False)\n",
    "    selected = target[probabilities_sorted.index][:count]\n",
    "    return int(INCOME_PER_UNIT * selected.sum() - BUDGET)"
   ]
  },
  {
   "cell_type": "code",
   "execution_count": 25,
   "metadata": {},
   "outputs": [],
   "source": [
    "# основная функция для расчета средней прибыли, 95%- доверительного интервала и риска убытков для трех регионов\n",
    "\n",
    "def final_calculation (target, predicted,POINTS, BEST_POINTS, INCOME_PER_UNIT, BUDGET):\n",
    "    state = np.random.RandomState(12345)\n",
    "    profit = []\n",
    "    for row in range(1000):\n",
    "        target_subsample = target.sample(n = POINTS, replace=True, random_state=state)\n",
    "        predicted_subsumple = predicted[target_subsample.index]\n",
    "        profit.append(profit_all(target_subsample, predicted_subsumple, BEST_POINTS, INCOME_PER_UNIT, BUDGET))\n",
    "    profit = pd.Series(profit)\n",
    "    profit_mean = int(sum(profit) / len(profit))\n",
    "    lower = int(profit.quantile(q=0.025))\n",
    "    upper = int(profit.quantile(q=0.975))\n",
    "    risk = st.percentileofscore(profit, 0)\n",
    "    return profit_mean, lower, upper, risk"
   ]
  },
  {
   "cell_type": "code",
   "execution_count": 26,
   "metadata": {},
   "outputs": [],
   "source": [
    "# применим функцию для регионов \n",
    "\n",
    "profit_mean_0, lower_0, upper_0, risk_0 = final_calculation(target_valid_0, predicted_valid_0, POINTS, BEST_POINTS, INCOME_PER_UNIT, BUDGET)\n",
    "profit_mean_1, lower_1, upper_1, risk_1 = final_calculation(target_valid_1, predicted_valid_1, POINTS, BEST_POINTS, INCOME_PER_UNIT, BUDGET)\n",
    "profit_mean_2, lower_2, upper_2, risk_2 = final_calculation(target_valid_2, predicted_valid_2, POINTS, BEST_POINTS, INCOME_PER_UNIT, BUDGET)"
   ]
  },
  {
   "cell_type": "code",
   "execution_count": 27,
   "metadata": {},
   "outputs": [],
   "source": [
    "# создадим дф для финальной визуализации\n",
    "\n",
    "data = {'регион':['Регион_0', 'Регион_1', 'Регион_2'], 'средняя прибыль':[profit_mean_0,profit_mean_1, profit_mean_2],'интервал начало':[lower_0,lower_1,lower_2], 'интервал конец':[upper_0,upper_1,upper_2], 'риск убытков %':[risk_0,risk_1,risk_2 ]} \n",
    "df_final = pd.DataFrame(data) "
   ]
  },
  {
   "cell_type": "code",
   "execution_count": 28,
   "metadata": {
    "scrolled": false
   },
   "outputs": [
    {
     "name": "stdout",
     "output_type": "stream",
     "text": [
      "     регион  средняя прибыль  интервал начало  интервал конец  риск убытков %\n",
      "0  Регион_0        425938526       -102090093       947976352            6.00\n",
      "1  Регион_1        515222772         68873225       931547590            1.00\n",
      "2  Регион_2        435008362       -128880546       969706953            6.40\n"
     ]
    }
   ],
   "source": [
    "print (df_final)"
   ]
  },
  {
   "cell_type": "markdown",
   "metadata": {},
   "source": [
    "Только Регион_1 подходит для нашей задачи как регион где вероятность убытка = 1%, так же отметим более 'надежный' доверительный интервал и высокую среднюю прибыль в этом регионе. "
   ]
  },
  {
   "cell_type": "markdown",
   "metadata": {},
   "source": [
    "#### Финальный вывод.\n",
    "\n",
    " Были изучены три региона для потенциальной нефтедобычи. Данные синтетические, без дефектов. Для обучения использовали модель линейной регрессии. \n",
    "Предсказания модели определили Регион 0 и Регион 2 - как регионы с наибольшим средним запасом сырья - в этих же регионах мы получили высокое значение среднеквадратичной ошибки модели, а значит более низкое качество предсказаний. При финальной проверке техникой бутстреп с заданными параметрами мы выяснили - только Регион_1 имеет вероятность убытка < 2.5% , и наиболее высокий средний доход.  \n",
    "\n",
    "#### Рекомендуется проводить разработку скважин в Регионе_1. "
   ]
  }
 ],
 "metadata": {
  "ExecuteTimeLog": [
   {
    "duration": 1656,
    "start_time": "2023-02-04T08:31:28.875Z"
   },
   {
    "duration": 1031,
    "start_time": "2023-02-04T08:31:30.537Z"
   },
   {
    "duration": 111,
    "start_time": "2023-02-04T08:31:38.571Z"
   },
   {
    "duration": 17693,
    "start_time": "2023-02-04T08:33:34.883Z"
   },
   {
    "duration": 9604,
    "start_time": "2023-02-04T08:34:13.558Z"
   },
   {
    "duration": 372,
    "start_time": "2023-02-04T08:39:29.532Z"
   },
   {
    "duration": 376,
    "start_time": "2023-02-04T08:39:44.527Z"
   },
   {
    "duration": 2698,
    "start_time": "2023-02-04T08:55:33.286Z"
   },
   {
    "duration": 91,
    "start_time": "2023-02-04T08:56:22.093Z"
   },
   {
    "duration": 14,
    "start_time": "2023-02-04T08:56:30.238Z"
   },
   {
    "duration": 16,
    "start_time": "2023-02-04T08:57:58.046Z"
   },
   {
    "duration": 594,
    "start_time": "2023-02-04T08:58:08.426Z"
   },
   {
    "duration": 19,
    "start_time": "2023-02-04T08:58:09.022Z"
   },
   {
    "duration": 3634,
    "start_time": "2023-02-04T09:01:56.054Z"
   },
   {
    "duration": 640,
    "start_time": "2023-02-04T09:02:04.190Z"
   },
   {
    "duration": 36,
    "start_time": "2023-02-04T09:02:06.732Z"
   },
   {
    "duration": 24,
    "start_time": "2023-02-04T09:02:34.594Z"
   },
   {
    "duration": 21,
    "start_time": "2023-02-04T09:02:36.579Z"
   },
   {
    "duration": 29,
    "start_time": "2023-02-04T09:04:53.281Z"
   },
   {
    "duration": 28,
    "start_time": "2023-02-04T09:05:10.139Z"
   },
   {
    "duration": 31303,
    "start_time": "2023-02-04T09:05:51.783Z"
   },
   {
    "duration": 17478,
    "start_time": "2023-02-05T11:55:46.589Z"
   },
   {
    "duration": 916,
    "start_time": "2023-02-05T11:56:04.069Z"
   },
   {
    "duration": 22406,
    "start_time": "2023-02-05T11:56:04.987Z"
   },
   {
    "duration": 2310,
    "start_time": "2023-02-05T12:02:13.989Z"
   },
   {
    "duration": 385,
    "start_time": "2023-02-05T12:02:16.301Z"
   },
   {
    "duration": 21808,
    "start_time": "2023-02-05T12:02:16.688Z"
   },
   {
    "duration": 2471,
    "start_time": "2023-02-05T12:24:03.619Z"
   },
   {
    "duration": 591,
    "start_time": "2023-02-05T12:34:41.631Z"
   },
   {
    "duration": 2560,
    "start_time": "2023-02-05T12:38:46.760Z"
   },
   {
    "duration": 414,
    "start_time": "2023-02-05T12:38:49.322Z"
   },
   {
    "duration": 25095,
    "start_time": "2023-02-05T12:38:49.738Z"
   },
   {
    "duration": 24911,
    "start_time": "2023-02-05T12:39:14.835Z"
   },
   {
    "duration": 26224,
    "start_time": "2023-02-05T12:39:39.748Z"
   },
   {
    "duration": 48,
    "start_time": "2023-02-05T12:46:04.173Z"
   },
   {
    "duration": 73,
    "start_time": "2023-02-05T12:46:47.065Z"
   },
   {
    "duration": 9129,
    "start_time": "2023-02-05T13:01:40.662Z"
   },
   {
    "duration": 7,
    "start_time": "2023-02-05T13:18:08.294Z"
   },
   {
    "duration": 2541,
    "start_time": "2023-02-05T13:27:18.932Z"
   },
   {
    "duration": 2405,
    "start_time": "2023-02-05T13:29:43.440Z"
   },
   {
    "duration": 16578,
    "start_time": "2023-02-06T16:42:53.742Z"
   },
   {
    "duration": 1252,
    "start_time": "2023-02-06T16:43:10.322Z"
   },
   {
    "duration": 22491,
    "start_time": "2023-02-06T16:43:11.577Z"
   },
   {
    "duration": 21887,
    "start_time": "2023-02-06T16:43:34.071Z"
   },
   {
    "duration": 22334,
    "start_time": "2023-02-06T16:43:55.959Z"
   },
   {
    "duration": 10,
    "start_time": "2023-02-06T16:44:18.295Z"
   },
   {
    "duration": 9,
    "start_time": "2023-02-06T16:44:18.307Z"
   },
   {
    "duration": 6519,
    "start_time": "2023-02-06T18:29:55.477Z"
   },
   {
    "duration": 371,
    "start_time": "2023-02-06T18:30:01.998Z"
   },
   {
    "duration": 21764,
    "start_time": "2023-02-06T18:30:02.371Z"
   },
   {
    "duration": 20627,
    "start_time": "2023-02-06T18:30:24.137Z"
   },
   {
    "duration": 22133,
    "start_time": "2023-02-06T18:30:44.766Z"
   },
   {
    "duration": 9,
    "start_time": "2023-02-06T18:31:06.901Z"
   },
   {
    "duration": 12,
    "start_time": "2023-02-06T18:31:06.912Z"
   },
   {
    "duration": 5,
    "start_time": "2023-02-06T18:54:51.985Z"
   },
   {
    "duration": 241,
    "start_time": "2023-02-06T18:58:30.136Z"
   },
   {
    "duration": 40,
    "start_time": "2023-02-06T18:59:27.127Z"
   },
   {
    "duration": 4,
    "start_time": "2023-02-06T19:01:45.070Z"
   },
   {
    "duration": 345,
    "start_time": "2023-02-06T19:02:59.022Z"
   },
   {
    "duration": 23,
    "start_time": "2023-02-06T19:05:20.194Z"
   },
   {
    "duration": 2309,
    "start_time": "2023-02-06T19:05:33.933Z"
   },
   {
    "duration": 397,
    "start_time": "2023-02-06T19:05:36.245Z"
   },
   {
    "duration": 23690,
    "start_time": "2023-02-06T19:05:36.644Z"
   },
   {
    "duration": 24762,
    "start_time": "2023-02-06T19:06:00.337Z"
   },
   {
    "duration": 25004,
    "start_time": "2023-02-06T19:06:25.108Z"
   },
   {
    "duration": 9,
    "start_time": "2023-02-06T19:06:50.117Z"
   },
   {
    "duration": 15,
    "start_time": "2023-02-06T19:06:50.128Z"
   },
   {
    "duration": 17,
    "start_time": "2023-02-06T19:06:50.144Z"
   },
   {
    "duration": 18,
    "start_time": "2023-02-06T19:08:59.851Z"
   },
   {
    "duration": 2367,
    "start_time": "2023-02-06T19:12:38.588Z"
   },
   {
    "duration": 402,
    "start_time": "2023-02-06T19:12:40.959Z"
   },
   {
    "duration": 25145,
    "start_time": "2023-02-06T19:12:41.362Z"
   },
   {
    "duration": 23118,
    "start_time": "2023-02-06T19:13:06.511Z"
   },
   {
    "duration": 26027,
    "start_time": "2023-02-06T19:13:29.632Z"
   },
   {
    "duration": 7,
    "start_time": "2023-02-06T19:13:55.661Z"
   },
   {
    "duration": 6,
    "start_time": "2023-02-06T19:13:55.671Z"
   },
   {
    "duration": 47,
    "start_time": "2023-02-06T19:13:55.679Z"
   },
   {
    "duration": 4,
    "start_time": "2023-02-06T19:19:32.003Z"
   },
   {
    "duration": 174,
    "start_time": "2023-02-06T19:19:38.330Z"
   },
   {
    "duration": 43,
    "start_time": "2023-02-06T19:20:05.663Z"
   },
   {
    "duration": 108,
    "start_time": "2023-02-06T19:20:43.496Z"
   },
   {
    "duration": 92,
    "start_time": "2023-02-06T19:20:50.008Z"
   },
   {
    "duration": 25,
    "start_time": "2023-02-06T19:21:02.886Z"
   },
   {
    "duration": 23,
    "start_time": "2023-02-06T19:24:25.125Z"
   },
   {
    "duration": 237,
    "start_time": "2023-02-06T19:25:03.481Z"
   },
   {
    "duration": 4,
    "start_time": "2023-02-06T19:25:24.644Z"
   },
   {
    "duration": 5,
    "start_time": "2023-02-06T19:36:12.986Z"
   },
   {
    "duration": 6,
    "start_time": "2023-02-06T19:36:51.419Z"
   },
   {
    "duration": 5,
    "start_time": "2023-02-06T19:37:04.680Z"
   },
   {
    "duration": 5,
    "start_time": "2023-02-06T19:37:23.562Z"
   },
   {
    "duration": 4,
    "start_time": "2023-02-06T19:37:33.844Z"
   },
   {
    "duration": 2371,
    "start_time": "2023-02-06T19:46:47.117Z"
   },
   {
    "duration": 4506,
    "start_time": "2023-02-06T19:47:20.364Z"
   },
   {
    "duration": 362,
    "start_time": "2023-02-06T19:47:24.872Z"
   },
   {
    "duration": 22289,
    "start_time": "2023-02-06T19:47:25.236Z"
   },
   {
    "duration": 22242,
    "start_time": "2023-02-06T19:47:47.527Z"
   },
   {
    "duration": 22581,
    "start_time": "2023-02-06T19:48:09.771Z"
   },
   {
    "duration": 7,
    "start_time": "2023-02-06T19:48:32.354Z"
   },
   {
    "duration": 12,
    "start_time": "2023-02-06T19:48:32.363Z"
   },
   {
    "duration": 423,
    "start_time": "2023-02-06T19:48:32.376Z"
   },
   {
    "duration": 5,
    "start_time": "2023-02-06T19:48:32.801Z"
   },
   {
    "duration": 16367,
    "start_time": "2023-02-06T19:50:00.536Z"
   },
   {
    "duration": 15658,
    "start_time": "2023-02-06T19:50:49.765Z"
   },
   {
    "duration": 15872,
    "start_time": "2023-02-06T19:52:45.698Z"
   },
   {
    "duration": 4184,
    "start_time": "2023-02-06T20:00:28.222Z"
   },
   {
    "duration": 360,
    "start_time": "2023-02-06T20:00:32.408Z"
   },
   {
    "duration": 22709,
    "start_time": "2023-02-06T20:00:32.770Z"
   },
   {
    "duration": 21844,
    "start_time": "2023-02-06T20:00:55.482Z"
   },
   {
    "duration": 21733,
    "start_time": "2023-02-06T20:01:17.328Z"
   },
   {
    "duration": 15,
    "start_time": "2023-02-06T20:01:39.063Z"
   },
   {
    "duration": 6,
    "start_time": "2023-02-06T20:01:39.080Z"
   },
   {
    "duration": 326,
    "start_time": "2023-02-06T20:01:39.087Z"
   },
   {
    "duration": 5,
    "start_time": "2023-02-06T20:01:39.500Z"
   },
   {
    "duration": 17186,
    "start_time": "2023-02-08T17:01:55.317Z"
   },
   {
    "duration": 1513,
    "start_time": "2023-02-08T17:02:12.506Z"
   },
   {
    "duration": 23825,
    "start_time": "2023-02-08T17:02:14.020Z"
   },
   {
    "duration": 24175,
    "start_time": "2023-02-08T17:02:37.847Z"
   },
   {
    "duration": 23312,
    "start_time": "2023-02-08T17:03:02.025Z"
   },
   {
    "duration": 18,
    "start_time": "2023-02-08T17:03:25.338Z"
   },
   {
    "duration": 22,
    "start_time": "2023-02-08T17:03:25.359Z"
   },
   {
    "duration": 760,
    "start_time": "2023-02-08T17:03:25.383Z"
   },
   {
    "duration": 95,
    "start_time": "2023-02-08T17:03:26.145Z"
   },
   {
    "duration": 179,
    "start_time": "2023-02-08T17:39:21.687Z"
   },
   {
    "duration": 17,
    "start_time": "2023-02-08T17:39:30.817Z"
   },
   {
    "duration": 14,
    "start_time": "2023-02-08T17:39:38.719Z"
   },
   {
    "duration": 3,
    "start_time": "2023-02-08T17:39:44.622Z"
   },
   {
    "duration": 6,
    "start_time": "2023-02-08T17:39:46.756Z"
   },
   {
    "duration": 14,
    "start_time": "2023-02-08T17:40:07.740Z"
   },
   {
    "duration": 6,
    "start_time": "2023-02-08T17:40:40.913Z"
   },
   {
    "duration": 152,
    "start_time": "2023-02-08T17:50:10.135Z"
   },
   {
    "duration": 11,
    "start_time": "2023-02-08T17:50:26.860Z"
   },
   {
    "duration": 14,
    "start_time": "2023-02-08T17:50:28.581Z"
   },
   {
    "duration": 17,
    "start_time": "2023-02-08T17:50:58.040Z"
   },
   {
    "duration": 12,
    "start_time": "2023-02-08T17:51:11.825Z"
   },
   {
    "duration": 14,
    "start_time": "2023-02-08T17:51:52.383Z"
   },
   {
    "duration": 16,
    "start_time": "2023-02-08T17:52:04.882Z"
   },
   {
    "duration": 19,
    "start_time": "2023-02-08T17:53:40.260Z"
   },
   {
    "duration": 18,
    "start_time": "2023-02-08T17:54:03.011Z"
   },
   {
    "duration": 29,
    "start_time": "2023-02-08T17:54:11.421Z"
   },
   {
    "duration": 23,
    "start_time": "2023-02-08T17:54:20.181Z"
   },
   {
    "duration": 17,
    "start_time": "2023-02-08T17:54:55.981Z"
   },
   {
    "duration": 19,
    "start_time": "2023-02-08T17:55:06.906Z"
   },
   {
    "duration": 7,
    "start_time": "2023-02-08T18:14:43.568Z"
   },
   {
    "duration": 6,
    "start_time": "2023-02-08T18:14:51.710Z"
   },
   {
    "duration": 5,
    "start_time": "2023-02-08T18:15:37.138Z"
   },
   {
    "duration": 2312,
    "start_time": "2023-02-08T18:25:31.811Z"
   },
   {
    "duration": 428,
    "start_time": "2023-02-08T18:25:34.125Z"
   },
   {
    "duration": 24109,
    "start_time": "2023-02-08T18:25:34.555Z"
   },
   {
    "duration": 24791,
    "start_time": "2023-02-08T18:25:58.667Z"
   },
   {
    "duration": 25196,
    "start_time": "2023-02-08T18:26:23.460Z"
   },
   {
    "duration": 17,
    "start_time": "2023-02-08T18:26:48.658Z"
   },
   {
    "duration": 11,
    "start_time": "2023-02-08T18:26:48.677Z"
   },
   {
    "duration": 367,
    "start_time": "2023-02-08T18:26:48.690Z"
   },
   {
    "duration": 77,
    "start_time": "2023-02-08T18:26:49.060Z"
   },
   {
    "duration": 104,
    "start_time": "2023-02-08T18:26:49.142Z"
   },
   {
    "duration": 12,
    "start_time": "2023-02-08T18:27:48.987Z"
   },
   {
    "duration": 5,
    "start_time": "2023-02-08T18:28:03.037Z"
   },
   {
    "duration": 61,
    "start_time": "2023-02-08T18:28:12.988Z"
   },
   {
    "duration": 4,
    "start_time": "2023-02-08T18:28:18.334Z"
   },
   {
    "duration": 4,
    "start_time": "2023-02-08T18:33:22.893Z"
   },
   {
    "duration": 21,
    "start_time": "2023-02-08T18:33:29.317Z"
   },
   {
    "duration": 12,
    "start_time": "2023-02-08T18:34:27.472Z"
   },
   {
    "duration": 15,
    "start_time": "2023-02-08T18:36:16.595Z"
   },
   {
    "duration": 12,
    "start_time": "2023-02-08T18:37:20.442Z"
   },
   {
    "duration": 5,
    "start_time": "2023-02-08T18:37:24.336Z"
   },
   {
    "duration": 25,
    "start_time": "2023-02-08T18:41:51.920Z"
   },
   {
    "duration": 25,
    "start_time": "2023-02-08T18:42:24.136Z"
   },
   {
    "duration": 2195,
    "start_time": "2023-02-08T18:42:51.850Z"
   },
   {
    "duration": 424,
    "start_time": "2023-02-08T18:42:54.048Z"
   },
   {
    "duration": 22608,
    "start_time": "2023-02-08T18:42:54.474Z"
   },
   {
    "duration": 22686,
    "start_time": "2023-02-08T18:43:17.137Z"
   },
   {
    "duration": 23322,
    "start_time": "2023-02-08T18:43:39.825Z"
   },
   {
    "duration": 15,
    "start_time": "2023-02-08T18:44:03.149Z"
   },
   {
    "duration": 6,
    "start_time": "2023-02-08T18:44:03.166Z"
   },
   {
    "duration": 281,
    "start_time": "2023-02-08T18:44:03.174Z"
   },
   {
    "duration": 87,
    "start_time": "2023-02-08T18:44:03.457Z"
   },
   {
    "duration": 87,
    "start_time": "2023-02-08T18:44:03.553Z"
   },
   {
    "duration": 14,
    "start_time": "2023-02-08T18:44:03.642Z"
   },
   {
    "duration": 30,
    "start_time": "2023-02-08T18:44:03.658Z"
   },
   {
    "duration": 2308,
    "start_time": "2023-02-08T18:45:10.488Z"
   },
   {
    "duration": 46,
    "start_time": "2023-02-08T18:46:09.734Z"
   },
   {
    "duration": 70,
    "start_time": "2023-02-08T18:46:15.518Z"
   },
   {
    "duration": 8,
    "start_time": "2023-02-08T18:46:27.826Z"
   },
   {
    "duration": 22,
    "start_time": "2023-02-08T18:46:52.734Z"
   },
   {
    "duration": 44,
    "start_time": "2023-02-08T18:47:03.643Z"
   },
   {
    "duration": 16,
    "start_time": "2023-02-08T18:47:06.906Z"
   },
   {
    "duration": 16,
    "start_time": "2023-02-08T18:48:42.430Z"
   },
   {
    "duration": 18,
    "start_time": "2023-02-08T18:49:37.680Z"
   },
   {
    "duration": 16,
    "start_time": "2023-02-08T18:49:58.291Z"
   },
   {
    "duration": 45,
    "start_time": "2023-02-08T18:50:42.245Z"
   },
   {
    "duration": 7,
    "start_time": "2023-02-08T18:50:53.936Z"
   },
   {
    "duration": 4,
    "start_time": "2023-02-08T18:51:15.980Z"
   },
   {
    "duration": 5,
    "start_time": "2023-02-08T18:51:19.831Z"
   },
   {
    "duration": 8,
    "start_time": "2023-02-08T18:51:49.423Z"
   },
   {
    "duration": 7,
    "start_time": "2023-02-08T18:52:21.479Z"
   },
   {
    "duration": 12,
    "start_time": "2023-02-08T18:56:46.892Z"
   },
   {
    "duration": 10,
    "start_time": "2023-02-08T18:57:02.147Z"
   },
   {
    "duration": 13,
    "start_time": "2023-02-08T18:57:09.952Z"
   },
   {
    "duration": 11,
    "start_time": "2023-02-08T18:57:21.945Z"
   },
   {
    "duration": 14,
    "start_time": "2023-02-08T18:57:34.950Z"
   },
   {
    "duration": 14,
    "start_time": "2023-02-08T18:58:08.786Z"
   },
   {
    "duration": 19,
    "start_time": "2023-02-08T19:02:03.559Z"
   },
   {
    "duration": 15884,
    "start_time": "2023-02-09T16:26:39.295Z"
   },
   {
    "duration": 1608,
    "start_time": "2023-02-09T16:26:55.181Z"
   },
   {
    "duration": 21892,
    "start_time": "2023-02-09T16:26:56.793Z"
   },
   {
    "duration": 20626,
    "start_time": "2023-02-09T16:27:18.692Z"
   },
   {
    "duration": 22289,
    "start_time": "2023-02-09T16:27:39.320Z"
   },
   {
    "duration": 16,
    "start_time": "2023-02-09T16:28:01.611Z"
   },
   {
    "duration": 63,
    "start_time": "2023-02-09T16:28:01.628Z"
   },
   {
    "duration": 505,
    "start_time": "2023-02-09T16:28:01.693Z"
   },
   {
    "duration": 93,
    "start_time": "2023-02-09T16:28:02.201Z"
   },
   {
    "duration": 20,
    "start_time": "2023-02-09T16:28:02.296Z"
   },
   {
    "duration": 15,
    "start_time": "2023-02-09T16:28:02.391Z"
   },
   {
    "duration": 4,
    "start_time": "2023-02-09T16:34:19.437Z"
   },
   {
    "duration": 6,
    "start_time": "2023-02-09T16:38:36.122Z"
   },
   {
    "duration": 7,
    "start_time": "2023-02-09T16:38:59.902Z"
   },
   {
    "duration": 6,
    "start_time": "2023-02-09T16:39:05.227Z"
   },
   {
    "duration": 5,
    "start_time": "2023-02-09T16:40:17.734Z"
   },
   {
    "duration": 6,
    "start_time": "2023-02-09T16:40:25.779Z"
   },
   {
    "duration": 4,
    "start_time": "2023-02-09T16:40:41.636Z"
   },
   {
    "duration": 174,
    "start_time": "2023-02-09T16:41:53.585Z"
   },
   {
    "duration": 11,
    "start_time": "2023-02-09T16:42:07.071Z"
   },
   {
    "duration": 5,
    "start_time": "2023-02-09T16:47:18.530Z"
   },
   {
    "duration": 14,
    "start_time": "2023-02-09T16:47:20.959Z"
   },
   {
    "duration": 47,
    "start_time": "2023-02-09T16:51:39.013Z"
   },
   {
    "duration": 6,
    "start_time": "2023-02-09T16:51:44.274Z"
   },
   {
    "duration": 2241,
    "start_time": "2023-02-09T17:17:51.136Z"
   },
   {
    "duration": 352,
    "start_time": "2023-02-09T17:17:53.379Z"
   },
   {
    "duration": 24988,
    "start_time": "2023-02-09T17:17:53.733Z"
   },
   {
    "duration": 23315,
    "start_time": "2023-02-09T17:18:18.724Z"
   },
   {
    "duration": 25805,
    "start_time": "2023-02-09T17:18:42.041Z"
   },
   {
    "duration": 14,
    "start_time": "2023-02-09T17:19:07.848Z"
   },
   {
    "duration": 22,
    "start_time": "2023-02-09T17:19:07.864Z"
   },
   {
    "duration": 314,
    "start_time": "2023-02-09T17:19:07.887Z"
   },
   {
    "duration": 6,
    "start_time": "2023-02-09T17:19:08.203Z"
   },
   {
    "duration": 184,
    "start_time": "2023-02-09T17:19:08.212Z"
   },
   {
    "duration": 23,
    "start_time": "2023-02-09T17:19:08.398Z"
   },
   {
    "duration": 59,
    "start_time": "2023-02-09T17:19:08.423Z"
   },
   {
    "duration": 0,
    "start_time": "2023-02-09T17:19:08.484Z"
   },
   {
    "duration": 0,
    "start_time": "2023-02-09T17:19:08.485Z"
   },
   {
    "duration": 0,
    "start_time": "2023-02-09T17:19:08.487Z"
   },
   {
    "duration": 4,
    "start_time": "2023-02-09T17:47:13.547Z"
   },
   {
    "duration": 4,
    "start_time": "2023-02-09T18:18:38.481Z"
   },
   {
    "duration": 3,
    "start_time": "2023-02-09T18:19:32.113Z"
   },
   {
    "duration": 5,
    "start_time": "2023-02-09T18:19:50.951Z"
   },
   {
    "duration": 19,
    "start_time": "2023-02-09T18:22:49.586Z"
   },
   {
    "duration": 3,
    "start_time": "2023-02-09T18:22:55.402Z"
   },
   {
    "duration": 4,
    "start_time": "2023-02-09T18:24:43.093Z"
   },
   {
    "duration": 15,
    "start_time": "2023-02-09T18:24:49.813Z"
   },
   {
    "duration": 49,
    "start_time": "2023-02-09T18:25:26.404Z"
   },
   {
    "duration": 3,
    "start_time": "2023-02-09T18:28:57.927Z"
   },
   {
    "duration": 4,
    "start_time": "2023-02-09T18:29:14.624Z"
   },
   {
    "duration": 12,
    "start_time": "2023-02-09T18:35:58.798Z"
   },
   {
    "duration": 8,
    "start_time": "2023-02-09T18:36:24.894Z"
   },
   {
    "duration": 6,
    "start_time": "2023-02-09T18:36:30.316Z"
   },
   {
    "duration": 2296,
    "start_time": "2023-02-09T18:36:37.783Z"
   },
   {
    "duration": 390,
    "start_time": "2023-02-09T18:36:40.082Z"
   },
   {
    "duration": 22783,
    "start_time": "2023-02-09T18:36:40.474Z"
   },
   {
    "duration": 22296,
    "start_time": "2023-02-09T18:37:03.259Z"
   },
   {
    "duration": 22861,
    "start_time": "2023-02-09T18:37:25.557Z"
   },
   {
    "duration": 16,
    "start_time": "2023-02-09T18:37:48.420Z"
   },
   {
    "duration": 44,
    "start_time": "2023-02-09T18:37:48.438Z"
   },
   {
    "duration": 507,
    "start_time": "2023-02-09T18:37:48.485Z"
   },
   {
    "duration": 7,
    "start_time": "2023-02-09T18:37:48.994Z"
   },
   {
    "duration": 97,
    "start_time": "2023-02-09T18:37:49.003Z"
   },
   {
    "duration": 7,
    "start_time": "2023-02-09T18:37:49.102Z"
   },
   {
    "duration": 10,
    "start_time": "2023-02-09T18:37:49.110Z"
   },
   {
    "duration": 10,
    "start_time": "2023-02-09T18:37:49.122Z"
   },
   {
    "duration": 9,
    "start_time": "2023-02-09T18:37:49.135Z"
   },
   {
    "duration": 9,
    "start_time": "2023-02-09T18:37:49.146Z"
   },
   {
    "duration": 45,
    "start_time": "2023-02-09T18:37:49.157Z"
   },
   {
    "duration": 5,
    "start_time": "2023-02-09T18:53:41.322Z"
   },
   {
    "duration": 2648,
    "start_time": "2023-02-09T18:54:00.400Z"
   },
   {
    "duration": 501,
    "start_time": "2023-02-09T18:54:03.051Z"
   },
   {
    "duration": 25675,
    "start_time": "2023-02-09T18:54:03.554Z"
   },
   {
    "duration": 23400,
    "start_time": "2023-02-09T18:54:29.233Z"
   },
   {
    "duration": 23092,
    "start_time": "2023-02-09T18:54:52.635Z"
   },
   {
    "duration": 63,
    "start_time": "2023-02-09T18:55:15.729Z"
   },
   {
    "duration": 5,
    "start_time": "2023-02-09T18:55:15.794Z"
   },
   {
    "duration": 491,
    "start_time": "2023-02-09T18:55:15.800Z"
   },
   {
    "duration": 11,
    "start_time": "2023-02-09T18:55:16.295Z"
   },
   {
    "duration": 89,
    "start_time": "2023-02-09T18:55:16.310Z"
   },
   {
    "duration": 21,
    "start_time": "2023-02-09T18:55:16.403Z"
   },
   {
    "duration": 12,
    "start_time": "2023-02-09T18:55:16.426Z"
   },
   {
    "duration": 7,
    "start_time": "2023-02-09T18:55:53.856Z"
   },
   {
    "duration": 3,
    "start_time": "2023-02-09T19:02:55.672Z"
   },
   {
    "duration": 5,
    "start_time": "2023-02-09T19:28:58.242Z"
   },
   {
    "duration": 681,
    "start_time": "2023-02-09T19:31:51.023Z"
   },
   {
    "duration": 7,
    "start_time": "2023-02-09T19:36:26.337Z"
   },
   {
    "duration": 632,
    "start_time": "2023-02-09T19:36:32.929Z"
   },
   {
    "duration": 6,
    "start_time": "2023-02-09T19:40:44.037Z"
   },
   {
    "duration": 16,
    "start_time": "2023-02-09T19:41:27.827Z"
   },
   {
    "duration": 7,
    "start_time": "2023-02-09T19:41:30.207Z"
   },
   {
    "duration": 17,
    "start_time": "2023-02-09T19:41:33.726Z"
   },
   {
    "duration": 6,
    "start_time": "2023-02-09T19:42:06.552Z"
   },
   {
    "duration": 34,
    "start_time": "2023-02-09T19:42:11.677Z"
   },
   {
    "duration": 3,
    "start_time": "2023-02-09T19:42:38.327Z"
   },
   {
    "duration": 6,
    "start_time": "2023-02-09T19:42:40.139Z"
   },
   {
    "duration": 42,
    "start_time": "2023-02-09T19:42:45.203Z"
   },
   {
    "duration": 4,
    "start_time": "2023-02-09T19:43:27.220Z"
   },
   {
    "duration": 4,
    "start_time": "2023-02-09T19:43:28.862Z"
   },
   {
    "duration": 1428,
    "start_time": "2023-02-09T19:43:33.217Z"
   },
   {
    "duration": 7,
    "start_time": "2023-02-09T19:43:50.680Z"
   },
   {
    "duration": 1512,
    "start_time": "2023-02-09T19:43:53.472Z"
   },
   {
    "duration": 6,
    "start_time": "2023-02-09T19:44:17.366Z"
   },
   {
    "duration": 1487,
    "start_time": "2023-02-09T19:44:19.260Z"
   },
   {
    "duration": 10,
    "start_time": "2023-02-09T19:45:43.808Z"
   },
   {
    "duration": 1569,
    "start_time": "2023-02-09T19:45:45.682Z"
   },
   {
    "duration": 4585,
    "start_time": "2023-02-09T19:46:10.392Z"
   },
   {
    "duration": 5,
    "start_time": "2023-02-09T19:46:21.332Z"
   },
   {
    "duration": 4523,
    "start_time": "2023-02-09T19:46:23.071Z"
   },
   {
    "duration": 4,
    "start_time": "2023-02-09T19:46:55.781Z"
   },
   {
    "duration": 4588,
    "start_time": "2023-02-09T19:48:26.491Z"
   },
   {
    "duration": 15,
    "start_time": "2023-02-09T20:03:57.118Z"
   },
   {
    "duration": 3,
    "start_time": "2023-02-09T20:09:29.033Z"
   },
   {
    "duration": 5,
    "start_time": "2023-02-09T20:10:42.761Z"
   },
   {
    "duration": 8,
    "start_time": "2023-02-09T20:10:59.232Z"
   },
   {
    "duration": 5,
    "start_time": "2023-02-09T20:12:02.373Z"
   },
   {
    "duration": 5,
    "start_time": "2023-02-09T20:12:06.009Z"
   },
   {
    "duration": 4,
    "start_time": "2023-02-09T20:14:27.109Z"
   },
   {
    "duration": 5,
    "start_time": "2023-02-09T20:14:31.075Z"
   },
   {
    "duration": 4,
    "start_time": "2023-02-09T20:16:03.108Z"
   },
   {
    "duration": 8,
    "start_time": "2023-02-09T20:16:05.414Z"
   },
   {
    "duration": 4,
    "start_time": "2023-02-09T20:17:29.490Z"
   },
   {
    "duration": 5,
    "start_time": "2023-02-09T20:17:31.365Z"
   },
   {
    "duration": 4,
    "start_time": "2023-02-09T20:18:26.571Z"
   },
   {
    "duration": 6,
    "start_time": "2023-02-09T20:18:28.476Z"
   },
   {
    "duration": 6,
    "start_time": "2023-02-09T20:19:06.213Z"
   },
   {
    "duration": 6,
    "start_time": "2023-02-09T20:19:08.282Z"
   },
   {
    "duration": 5,
    "start_time": "2023-02-09T20:19:14.972Z"
   },
   {
    "duration": 5,
    "start_time": "2023-02-09T20:19:16.768Z"
   },
   {
    "duration": 6,
    "start_time": "2023-02-09T20:27:01.930Z"
   },
   {
    "duration": 6,
    "start_time": "2023-02-09T20:31:29.968Z"
   },
   {
    "duration": 59,
    "start_time": "2023-02-09T20:44:12.132Z"
   },
   {
    "duration": 5,
    "start_time": "2023-02-09T21:03:14.361Z"
   },
   {
    "duration": 6,
    "start_time": "2023-02-09T21:03:25.667Z"
   },
   {
    "duration": 4,
    "start_time": "2023-02-09T21:03:41.131Z"
   },
   {
    "duration": 12,
    "start_time": "2023-02-09T21:04:00.687Z"
   },
   {
    "duration": 4,
    "start_time": "2023-02-09T21:04:24.316Z"
   },
   {
    "duration": 6,
    "start_time": "2023-02-09T21:05:07.229Z"
   },
   {
    "duration": 6,
    "start_time": "2023-02-09T21:05:10.156Z"
   },
   {
    "duration": 5,
    "start_time": "2023-02-09T21:05:31.062Z"
   },
   {
    "duration": 6,
    "start_time": "2023-02-09T21:05:33.523Z"
   },
   {
    "duration": 5,
    "start_time": "2023-02-09T21:05:40.504Z"
   },
   {
    "duration": 7,
    "start_time": "2023-02-09T21:05:42.327Z"
   },
   {
    "duration": 4,
    "start_time": "2023-02-09T21:06:28.181Z"
   },
   {
    "duration": 5,
    "start_time": "2023-02-09T21:06:30.186Z"
   },
   {
    "duration": 5,
    "start_time": "2023-02-09T21:06:34.736Z"
   },
   {
    "duration": 7,
    "start_time": "2023-02-09T21:06:37.015Z"
   },
   {
    "duration": 19011,
    "start_time": "2023-06-04T08:35:31.237Z"
   },
   {
    "duration": 866,
    "start_time": "2023-06-04T08:35:50.251Z"
   },
   {
    "duration": 6667,
    "start_time": "2023-06-04T08:35:51.119Z"
   },
   {
    "duration": 0,
    "start_time": "2023-06-04T08:35:57.788Z"
   },
   {
    "duration": 0,
    "start_time": "2023-06-04T08:35:57.790Z"
   },
   {
    "duration": 0,
    "start_time": "2023-06-04T08:35:57.791Z"
   },
   {
    "duration": 0,
    "start_time": "2023-06-04T08:35:57.792Z"
   },
   {
    "duration": 0,
    "start_time": "2023-06-04T08:35:57.794Z"
   },
   {
    "duration": 0,
    "start_time": "2023-06-04T08:35:57.794Z"
   },
   {
    "duration": 0,
    "start_time": "2023-06-04T08:35:57.796Z"
   },
   {
    "duration": 0,
    "start_time": "2023-06-04T08:35:57.797Z"
   },
   {
    "duration": 0,
    "start_time": "2023-06-04T08:35:57.798Z"
   },
   {
    "duration": 0,
    "start_time": "2023-06-04T08:35:57.799Z"
   },
   {
    "duration": 0,
    "start_time": "2023-06-04T08:35:57.800Z"
   },
   {
    "duration": 0,
    "start_time": "2023-06-04T08:35:57.801Z"
   },
   {
    "duration": 0,
    "start_time": "2023-06-04T08:35:57.802Z"
   },
   {
    "duration": 2859,
    "start_time": "2023-06-04T08:36:52.959Z"
   },
   {
    "duration": 439,
    "start_time": "2023-06-04T08:36:55.821Z"
   },
   {
    "duration": 6559,
    "start_time": "2023-06-04T08:36:56.262Z"
   },
   {
    "duration": 0,
    "start_time": "2023-06-04T08:37:02.823Z"
   },
   {
    "duration": 0,
    "start_time": "2023-06-04T08:37:02.824Z"
   },
   {
    "duration": 0,
    "start_time": "2023-06-04T08:37:02.825Z"
   },
   {
    "duration": 0,
    "start_time": "2023-06-04T08:37:02.826Z"
   },
   {
    "duration": 0,
    "start_time": "2023-06-04T08:37:02.827Z"
   },
   {
    "duration": 0,
    "start_time": "2023-06-04T08:37:02.828Z"
   },
   {
    "duration": 0,
    "start_time": "2023-06-04T08:37:02.829Z"
   },
   {
    "duration": 0,
    "start_time": "2023-06-04T08:37:02.848Z"
   },
   {
    "duration": 0,
    "start_time": "2023-06-04T08:37:02.850Z"
   },
   {
    "duration": 0,
    "start_time": "2023-06-04T08:37:02.852Z"
   },
   {
    "duration": 0,
    "start_time": "2023-06-04T08:37:02.854Z"
   },
   {
    "duration": 0,
    "start_time": "2023-06-04T08:37:02.856Z"
   },
   {
    "duration": 0,
    "start_time": "2023-06-04T08:37:02.858Z"
   },
   {
    "duration": 14,
    "start_time": "2023-06-04T08:40:05.129Z"
   },
   {
    "duration": 11,
    "start_time": "2023-06-04T08:40:09.629Z"
   },
   {
    "duration": 6139,
    "start_time": "2023-06-04T08:40:12.417Z"
   },
   {
    "duration": 2465,
    "start_time": "2023-06-04T08:41:45.763Z"
   },
   {
    "duration": 434,
    "start_time": "2023-06-04T08:41:48.231Z"
   },
   {
    "duration": 6122,
    "start_time": "2023-06-04T08:41:48.667Z"
   },
   {
    "duration": 0,
    "start_time": "2023-06-04T08:41:54.791Z"
   },
   {
    "duration": 0,
    "start_time": "2023-06-04T08:41:54.792Z"
   },
   {
    "duration": 0,
    "start_time": "2023-06-04T08:41:54.793Z"
   },
   {
    "duration": 0,
    "start_time": "2023-06-04T08:41:54.794Z"
   },
   {
    "duration": 0,
    "start_time": "2023-06-04T08:41:54.796Z"
   },
   {
    "duration": 0,
    "start_time": "2023-06-04T08:41:54.797Z"
   },
   {
    "duration": 0,
    "start_time": "2023-06-04T08:41:54.798Z"
   },
   {
    "duration": 0,
    "start_time": "2023-06-04T08:41:54.799Z"
   },
   {
    "duration": 0,
    "start_time": "2023-06-04T08:41:54.800Z"
   },
   {
    "duration": 0,
    "start_time": "2023-06-04T08:41:54.801Z"
   },
   {
    "duration": 0,
    "start_time": "2023-06-04T08:41:54.802Z"
   },
   {
    "duration": 0,
    "start_time": "2023-06-04T08:41:54.803Z"
   },
   {
    "duration": 0,
    "start_time": "2023-06-04T08:41:54.804Z"
   },
   {
    "duration": 12,
    "start_time": "2023-06-04T08:44:50.206Z"
   },
   {
    "duration": 17,
    "start_time": "2023-06-04T08:44:56.064Z"
   },
   {
    "duration": 11179,
    "start_time": "2023-06-04T08:46:05.788Z"
   },
   {
    "duration": 399,
    "start_time": "2023-06-04T08:46:16.970Z"
   },
   {
    "duration": 5811,
    "start_time": "2023-06-04T08:46:17.373Z"
   },
   {
    "duration": 0,
    "start_time": "2023-06-04T08:46:23.186Z"
   },
   {
    "duration": 0,
    "start_time": "2023-06-04T08:46:23.189Z"
   },
   {
    "duration": 0,
    "start_time": "2023-06-04T08:46:23.190Z"
   },
   {
    "duration": 0,
    "start_time": "2023-06-04T08:46:23.191Z"
   },
   {
    "duration": 0,
    "start_time": "2023-06-04T08:46:23.192Z"
   },
   {
    "duration": 0,
    "start_time": "2023-06-04T08:46:23.193Z"
   },
   {
    "duration": 0,
    "start_time": "2023-06-04T08:46:23.194Z"
   },
   {
    "duration": 0,
    "start_time": "2023-06-04T08:46:23.195Z"
   },
   {
    "duration": 0,
    "start_time": "2023-06-04T08:46:23.196Z"
   },
   {
    "duration": 0,
    "start_time": "2023-06-04T08:46:23.198Z"
   },
   {
    "duration": 0,
    "start_time": "2023-06-04T08:46:23.199Z"
   },
   {
    "duration": 0,
    "start_time": "2023-06-04T08:46:23.200Z"
   },
   {
    "duration": 0,
    "start_time": "2023-06-04T08:46:23.202Z"
   },
   {
    "duration": 50,
    "start_time": "2023-06-04T08:47:04.651Z"
   },
   {
    "duration": 11065,
    "start_time": "2023-06-04T08:51:16.321Z"
   },
   {
    "duration": 389,
    "start_time": "2023-06-04T08:51:27.388Z"
   },
   {
    "duration": 24877,
    "start_time": "2023-06-04T08:51:27.779Z"
   },
   {
    "duration": 22705,
    "start_time": "2023-06-04T08:51:52.659Z"
   },
   {
    "duration": 23393,
    "start_time": "2023-06-04T08:52:15.366Z"
   },
   {
    "duration": 17,
    "start_time": "2023-06-04T08:52:38.761Z"
   },
   {
    "duration": 9,
    "start_time": "2023-06-04T08:52:38.780Z"
   },
   {
    "duration": 559,
    "start_time": "2023-06-04T08:52:38.791Z"
   },
   {
    "duration": 7,
    "start_time": "2023-06-04T08:52:39.442Z"
   },
   {
    "duration": 10,
    "start_time": "2023-06-04T08:52:39.451Z"
   },
   {
    "duration": 19,
    "start_time": "2023-06-04T08:52:39.463Z"
   },
   {
    "duration": 7,
    "start_time": "2023-06-04T08:52:39.484Z"
   },
   {
    "duration": 54,
    "start_time": "2023-06-04T08:52:39.493Z"
   },
   {
    "duration": 4528,
    "start_time": "2023-06-04T08:52:39.549Z"
   },
   {
    "duration": 5,
    "start_time": "2023-06-04T08:52:44.079Z"
   },
   {
    "duration": 18,
    "start_time": "2023-06-04T08:52:44.086Z"
   },
   {
    "duration": 185,
    "start_time": "2023-06-04T08:59:49.368Z"
   },
   {
    "duration": 13,
    "start_time": "2023-06-04T09:06:49.088Z"
   },
   {
    "duration": 15,
    "start_time": "2023-06-04T09:07:49.011Z"
   },
   {
    "duration": 11,
    "start_time": "2023-06-04T09:08:07.989Z"
   },
   {
    "duration": 7238,
    "start_time": "2023-06-04T09:08:31.024Z"
   },
   {
    "duration": 10484,
    "start_time": "2023-06-04T09:12:55.037Z"
   },
   {
    "duration": 165,
    "start_time": "2023-06-04T09:13:05.524Z"
   },
   {
    "duration": 0,
    "start_time": "2023-06-04T09:13:05.692Z"
   },
   {
    "duration": 0,
    "start_time": "2023-06-04T09:13:05.693Z"
   },
   {
    "duration": 0,
    "start_time": "2023-06-04T09:13:05.694Z"
   },
   {
    "duration": 0,
    "start_time": "2023-06-04T09:13:05.695Z"
   },
   {
    "duration": 0,
    "start_time": "2023-06-04T09:13:05.696Z"
   },
   {
    "duration": 0,
    "start_time": "2023-06-04T09:13:05.697Z"
   },
   {
    "duration": 0,
    "start_time": "2023-06-04T09:13:05.698Z"
   },
   {
    "duration": 0,
    "start_time": "2023-06-04T09:13:05.699Z"
   },
   {
    "duration": 0,
    "start_time": "2023-06-04T09:13:05.700Z"
   },
   {
    "duration": 0,
    "start_time": "2023-06-04T09:13:05.701Z"
   },
   {
    "duration": 0,
    "start_time": "2023-06-04T09:13:05.702Z"
   },
   {
    "duration": 0,
    "start_time": "2023-06-04T09:13:05.703Z"
   },
   {
    "duration": 1,
    "start_time": "2023-06-04T09:13:05.704Z"
   },
   {
    "duration": 0,
    "start_time": "2023-06-04T09:13:05.706Z"
   },
   {
    "duration": 0,
    "start_time": "2023-06-04T09:13:05.707Z"
   },
   {
    "duration": 14,
    "start_time": "2023-06-04T09:14:26.202Z"
   },
   {
    "duration": 3,
    "start_time": "2023-06-04T09:16:17.187Z"
   },
   {
    "duration": 7619,
    "start_time": "2023-06-04T09:16:23.055Z"
   },
   {
    "duration": 3,
    "start_time": "2023-06-04T09:16:30.677Z"
   },
   {
    "duration": 408,
    "start_time": "2023-06-04T09:16:30.681Z"
   },
   {
    "duration": 10214,
    "start_time": "2023-06-04T09:16:31.091Z"
   },
   {
    "duration": 9720,
    "start_time": "2023-06-04T09:16:41.308Z"
   },
   {
    "duration": 9952,
    "start_time": "2023-06-04T09:16:51.030Z"
   },
   {
    "duration": 9,
    "start_time": "2023-06-04T09:17:00.984Z"
   },
   {
    "duration": 49,
    "start_time": "2023-06-04T09:17:00.994Z"
   },
   {
    "duration": 602,
    "start_time": "2023-06-04T09:17:01.045Z"
   },
   {
    "duration": 94,
    "start_time": "2023-06-04T09:17:01.653Z"
   },
   {
    "duration": 109,
    "start_time": "2023-06-04T09:17:01.748Z"
   },
   {
    "duration": 19,
    "start_time": "2023-06-04T09:17:01.858Z"
   },
   {
    "duration": 60,
    "start_time": "2023-06-04T09:17:01.879Z"
   },
   {
    "duration": 32,
    "start_time": "2023-06-04T09:17:01.941Z"
   },
   {
    "duration": 3958,
    "start_time": "2023-06-04T09:17:01.975Z"
   },
   {
    "duration": 4,
    "start_time": "2023-06-04T09:17:05.935Z"
   },
   {
    "duration": 26,
    "start_time": "2023-06-04T09:17:05.942Z"
   },
   {
    "duration": 1661,
    "start_time": "2023-06-04T12:32:37.974Z"
   },
   {
    "duration": 1,
    "start_time": "2023-06-04T12:32:39.637Z"
   },
   {
    "duration": 0,
    "start_time": "2023-06-04T12:32:39.639Z"
   },
   {
    "duration": 0,
    "start_time": "2023-06-04T12:32:39.640Z"
   },
   {
    "duration": 0,
    "start_time": "2023-06-04T12:32:39.642Z"
   },
   {
    "duration": 0,
    "start_time": "2023-06-04T12:32:39.643Z"
   },
   {
    "duration": 0,
    "start_time": "2023-06-04T12:32:39.644Z"
   },
   {
    "duration": 0,
    "start_time": "2023-06-04T12:32:39.645Z"
   },
   {
    "duration": 0,
    "start_time": "2023-06-04T12:32:39.646Z"
   },
   {
    "duration": 0,
    "start_time": "2023-06-04T12:32:39.647Z"
   },
   {
    "duration": 0,
    "start_time": "2023-06-04T12:32:39.648Z"
   },
   {
    "duration": 0,
    "start_time": "2023-06-04T12:32:39.649Z"
   },
   {
    "duration": 0,
    "start_time": "2023-06-04T12:32:39.650Z"
   },
   {
    "duration": 0,
    "start_time": "2023-06-04T12:32:39.651Z"
   },
   {
    "duration": 0,
    "start_time": "2023-06-04T12:32:39.652Z"
   },
   {
    "duration": 0,
    "start_time": "2023-06-04T12:32:39.680Z"
   },
   {
    "duration": 0,
    "start_time": "2023-06-04T12:32:39.680Z"
   },
   {
    "duration": 0,
    "start_time": "2023-06-04T12:32:39.684Z"
   },
   {
    "duration": 0,
    "start_time": "2023-06-04T12:32:39.690Z"
   },
   {
    "duration": 0,
    "start_time": "2023-06-04T12:32:39.691Z"
   },
   {
    "duration": 0,
    "start_time": "2023-06-04T12:32:39.692Z"
   },
   {
    "duration": 0,
    "start_time": "2023-06-04T12:32:39.694Z"
   },
   {
    "duration": 1715,
    "start_time": "2023-06-04T12:33:00.808Z"
   },
   {
    "duration": 6,
    "start_time": "2023-06-04T12:33:02.529Z"
   },
   {
    "duration": 3661,
    "start_time": "2023-06-04T12:33:02.537Z"
   },
   {
    "duration": 29,
    "start_time": "2023-06-04T12:33:06.201Z"
   },
   {
    "duration": 108,
    "start_time": "2023-06-04T12:33:06.234Z"
   },
   {
    "duration": 0,
    "start_time": "2023-06-04T12:33:06.344Z"
   },
   {
    "duration": 0,
    "start_time": "2023-06-04T12:33:06.345Z"
   },
   {
    "duration": 0,
    "start_time": "2023-06-04T12:33:06.346Z"
   },
   {
    "duration": 0,
    "start_time": "2023-06-04T12:33:06.347Z"
   },
   {
    "duration": 0,
    "start_time": "2023-06-04T12:33:06.348Z"
   },
   {
    "duration": 0,
    "start_time": "2023-06-04T12:33:06.349Z"
   },
   {
    "duration": 0,
    "start_time": "2023-06-04T12:33:06.350Z"
   },
   {
    "duration": 0,
    "start_time": "2023-06-04T12:33:06.351Z"
   },
   {
    "duration": 0,
    "start_time": "2023-06-04T12:33:06.352Z"
   },
   {
    "duration": 0,
    "start_time": "2023-06-04T12:33:06.353Z"
   },
   {
    "duration": 0,
    "start_time": "2023-06-04T12:33:06.354Z"
   },
   {
    "duration": 0,
    "start_time": "2023-06-04T12:33:06.355Z"
   },
   {
    "duration": 1,
    "start_time": "2023-06-04T12:33:06.355Z"
   },
   {
    "duration": 0,
    "start_time": "2023-06-04T12:33:06.356Z"
   },
   {
    "duration": 0,
    "start_time": "2023-06-04T12:33:06.357Z"
   },
   {
    "duration": 0,
    "start_time": "2023-06-04T12:33:06.358Z"
   },
   {
    "duration": 0,
    "start_time": "2023-06-04T12:33:06.359Z"
   },
   {
    "duration": 4,
    "start_time": "2023-06-04T12:33:31.365Z"
   },
   {
    "duration": 47,
    "start_time": "2023-06-04T12:33:31.371Z"
   },
   {
    "duration": 486,
    "start_time": "2023-06-04T12:33:31.421Z"
   },
   {
    "duration": 17,
    "start_time": "2023-06-04T12:33:31.912Z"
   },
   {
    "duration": 13,
    "start_time": "2023-06-04T12:33:31.932Z"
   },
   {
    "duration": 55,
    "start_time": "2023-06-04T12:33:31.947Z"
   },
   {
    "duration": 18,
    "start_time": "2023-06-04T12:33:32.003Z"
   },
   {
    "duration": 20,
    "start_time": "2023-06-04T12:33:32.023Z"
   },
   {
    "duration": 176,
    "start_time": "2023-06-04T12:33:32.046Z"
   },
   {
    "duration": 79,
    "start_time": "2023-06-04T12:33:32.224Z"
   },
   {
    "duration": 96,
    "start_time": "2023-06-04T12:33:32.305Z"
   },
   {
    "duration": 722,
    "start_time": "2023-06-04T12:33:32.404Z"
   },
   {
    "duration": 12,
    "start_time": "2023-06-04T12:33:33.127Z"
   },
   {
    "duration": 4,
    "start_time": "2023-06-04T12:33:33.141Z"
   },
   {
    "duration": 358,
    "start_time": "2023-06-04T12:33:33.147Z"
   },
   {
    "duration": 11,
    "start_time": "2023-06-04T12:33:33.508Z"
   },
   {
    "duration": 13,
    "start_time": "2023-06-04T12:33:33.595Z"
   },
   {
    "duration": 20,
    "start_time": "2023-06-04T12:33:33.681Z"
   },
   {
    "duration": 11,
    "start_time": "2023-06-04T12:33:33.708Z"
   },
   {
    "duration": 14,
    "start_time": "2023-06-04T12:33:33.721Z"
   },
   {
    "duration": 4668,
    "start_time": "2023-06-04T12:33:33.738Z"
   },
   {
    "duration": 4,
    "start_time": "2023-06-04T12:33:38.408Z"
   },
   {
    "duration": 12,
    "start_time": "2023-06-04T12:33:38.414Z"
   }
  ],
  "kernelspec": {
   "display_name": "Python 3 (ipykernel)",
   "language": "python",
   "name": "python3"
  },
  "language_info": {
   "codemirror_mode": {
    "name": "ipython",
    "version": 3
   },
   "file_extension": ".py",
   "mimetype": "text/x-python",
   "name": "python",
   "nbconvert_exporter": "python",
   "pygments_lexer": "ipython3",
   "version": "3.9.12"
  },
  "toc": {
   "base_numbering": 1,
   "nav_menu": {},
   "number_sections": false,
   "sideBar": true,
   "skip_h1_title": true,
   "title_cell": "Table of Contents",
   "title_sidebar": "Contents",
   "toc_cell": false,
   "toc_position": {},
   "toc_section_display": true,
   "toc_window_display": false
  }
 },
 "nbformat": 4,
 "nbformat_minor": 2
}
